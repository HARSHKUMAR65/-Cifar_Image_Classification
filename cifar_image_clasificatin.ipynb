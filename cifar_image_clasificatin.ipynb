{
  "nbformat": 4,
  "nbformat_minor": 0,
  "metadata": {
    "colab": {
      "name": "cifar_image_clasificatin.ipynb",
      "provenance": [],
      "collapsed_sections": []
    },
    "kernelspec": {
      "name": "python3",
      "display_name": "Python 3"
    },
    "language_info": {
      "name": "python"
    },
    "accelerator": "GPU",
    "gpuClass": "standard"
  },
  "cells": [
    {
      "cell_type": "code",
      "execution_count": 16,
      "metadata": {
        "id": "Y7puY7YugBLv"
      },
      "outputs": [],
      "source": [
        "import numpy as np \n",
        "import pandas as pd \n",
        "import tensorflow\n",
        "import cv2\n",
        "from tensorflow.keras.models import Sequential\n",
        "from tensorflow.keras.layers import Flatten,BatchNormalization,Dense,Dropout\n",
        "from tensorflow.keras.models import Model\n",
        "from tensorflow.keras.applications.vgg16 import VGG16,preprocess_input\n",
        "from tensorflow.keras.preprocessing import image\n",
        "from tensorflow.keras.preprocessing.image import ImageDataGenerator\n",
        "from tensorflow.keras.preprocessing.image import img_to_array,load_img\n"
      ]
    },
    {
      "cell_type": "code",
      "source": [
        "image_size=[32,32,3]\n",
        "model=VGG16(input_shape=image_size,weights='imagenet',include_top=False)"
      ],
      "metadata": {
        "colab": {
          "base_uri": "https://localhost:8080/"
        },
        "id": "wtkLxRj1gIQo",
        "outputId": "af5cfd83-b0bf-47fc-cf52-9b83ba3d4a39"
      },
      "execution_count": 7,
      "outputs": [
        {
          "output_type": "stream",
          "name": "stdout",
          "text": [
            "Downloading data from https://storage.googleapis.com/tensorflow/keras-applications/vgg16/vgg16_weights_tf_dim_ordering_tf_kernels_notop.h5\n",
            "58892288/58889256 [==============================] - 0s 0us/step\n",
            "58900480/58889256 [==============================] - 0s 0us/step\n"
          ]
        }
      ]
    },
    {
      "cell_type": "code",
      "source": [
        "for layers in model.layers : \n",
        "    layers.trainable = False"
      ],
      "metadata": {
        "id": "Ov_xPHZAiDlw"
      },
      "execution_count": 8,
      "outputs": []
    },
    {
      "cell_type": "code",
      "source": [
        "x=Flatten()(model.output)\n",
        "output=Dense(10,activation='softmax')(x)"
      ],
      "metadata": {
        "id": "DflQa7m_i3bV"
      },
      "execution_count": 9,
      "outputs": []
    },
    {
      "cell_type": "code",
      "source": [
        "model1=Model(inputs=model.input,outputs=output)\n",
        "model1.summary()"
      ],
      "metadata": {
        "colab": {
          "base_uri": "https://localhost:8080/"
        },
        "id": "a9UYttCGi6hK",
        "outputId": "8d50a289-a858-492c-ba32-b286e55f94d7"
      },
      "execution_count": 10,
      "outputs": [
        {
          "output_type": "stream",
          "name": "stdout",
          "text": [
            "Model: \"model\"\n",
            "_________________________________________________________________\n",
            " Layer (type)                Output Shape              Param #   \n",
            "=================================================================\n",
            " input_1 (InputLayer)        [(None, 32, 32, 3)]       0         \n",
            "                                                                 \n",
            " block1_conv1 (Conv2D)       (None, 32, 32, 64)        1792      \n",
            "                                                                 \n",
            " block1_conv2 (Conv2D)       (None, 32, 32, 64)        36928     \n",
            "                                                                 \n",
            " block1_pool (MaxPooling2D)  (None, 16, 16, 64)        0         \n",
            "                                                                 \n",
            " block2_conv1 (Conv2D)       (None, 16, 16, 128)       73856     \n",
            "                                                                 \n",
            " block2_conv2 (Conv2D)       (None, 16, 16, 128)       147584    \n",
            "                                                                 \n",
            " block2_pool (MaxPooling2D)  (None, 8, 8, 128)         0         \n",
            "                                                                 \n",
            " block3_conv1 (Conv2D)       (None, 8, 8, 256)         295168    \n",
            "                                                                 \n",
            " block3_conv2 (Conv2D)       (None, 8, 8, 256)         590080    \n",
            "                                                                 \n",
            " block3_conv3 (Conv2D)       (None, 8, 8, 256)         590080    \n",
            "                                                                 \n",
            " block3_pool (MaxPooling2D)  (None, 4, 4, 256)         0         \n",
            "                                                                 \n",
            " block4_conv1 (Conv2D)       (None, 4, 4, 512)         1180160   \n",
            "                                                                 \n",
            " block4_conv2 (Conv2D)       (None, 4, 4, 512)         2359808   \n",
            "                                                                 \n",
            " block4_conv3 (Conv2D)       (None, 4, 4, 512)         2359808   \n",
            "                                                                 \n",
            " block4_pool (MaxPooling2D)  (None, 2, 2, 512)         0         \n",
            "                                                                 \n",
            " block5_conv1 (Conv2D)       (None, 2, 2, 512)         2359808   \n",
            "                                                                 \n",
            " block5_conv2 (Conv2D)       (None, 2, 2, 512)         2359808   \n",
            "                                                                 \n",
            " block5_conv3 (Conv2D)       (None, 2, 2, 512)         2359808   \n",
            "                                                                 \n",
            " block5_pool (MaxPooling2D)  (None, 1, 1, 512)         0         \n",
            "                                                                 \n",
            " flatten (Flatten)           (None, 512)               0         \n",
            "                                                                 \n",
            " dense (Dense)               (None, 10)                5130      \n",
            "                                                                 \n",
            "=================================================================\n",
            "Total params: 14,719,818\n",
            "Trainable params: 5,130\n",
            "Non-trainable params: 14,714,688\n",
            "_________________________________________________________________\n"
          ]
        }
      ]
    },
    {
      "cell_type": "code",
      "source": [
        "(x_train, y_train), (x_test, y_test) = tensorflow.keras.datasets.cifar10.load_data()"
      ],
      "metadata": {
        "colab": {
          "base_uri": "https://localhost:8080/"
        },
        "id": "qWzsANE3i9Jf",
        "outputId": "6136e31e-87f1-427d-da7e-cce05c584d26"
      },
      "execution_count": 20,
      "outputs": [
        {
          "output_type": "stream",
          "name": "stdout",
          "text": [
            "Downloading data from https://www.cs.toronto.edu/~kriz/cifar-10-python.tar.gz\n",
            "170500096/170498071 [==============================] - 2s 0us/step\n",
            "170508288/170498071 [==============================] - 2s 0us/step\n"
          ]
        }
      ]
    },
    {
      "cell_type": "code",
      "source": [
        "x_train.shape,y_train.shape,x_test.shape,y_test.shape"
      ],
      "metadata": {
        "colab": {
          "base_uri": "https://localhost:8080/"
        },
        "id": "zHzXVT3zjF7s",
        "outputId": "fb4db33b-7a0c-4fac-c431-7849964478f5"
      },
      "execution_count": 21,
      "outputs": [
        {
          "output_type": "execute_result",
          "data": {
            "text/plain": [
              "((50000, 32, 32, 3), (50000, 1), (10000, 32, 32, 3), (10000, 1))"
            ]
          },
          "metadata": {},
          "execution_count": 21
        }
      ]
    },
    {
      "cell_type": "code",
      "source": [
        "pd.DataFrame(y_train).value_counts()"
      ],
      "metadata": {
        "colab": {
          "base_uri": "https://localhost:8080/"
        },
        "id": "zjcyi9LVkGp4",
        "outputId": "57b0fc15-dc28-470c-b907-90e6200fb31c"
      },
      "execution_count": 22,
      "outputs": [
        {
          "output_type": "execute_result",
          "data": {
            "text/plain": [
              "0    5000\n",
              "1    5000\n",
              "2    5000\n",
              "3    5000\n",
              "4    5000\n",
              "5    5000\n",
              "6    5000\n",
              "7    5000\n",
              "8    5000\n",
              "9    5000\n",
              "dtype: int64"
            ]
          },
          "metadata": {},
          "execution_count": 22
        }
      ]
    },
    {
      "cell_type": "code",
      "source": [
        "x_train = x_train[0:20000]\n",
        "y_train = y_train[0:20000]"
      ],
      "metadata": {
        "id": "0-xV6OuKkMhU"
      },
      "execution_count": 23,
      "outputs": []
    },
    {
      "cell_type": "code",
      "source": [
        "pd.DataFrame(y_train).value_counts()"
      ],
      "metadata": {
        "colab": {
          "base_uri": "https://localhost:8080/"
        },
        "id": "M49GhJy-k37F",
        "outputId": "a3114f67-7241-4140-938f-0811d637a032"
      },
      "execution_count": 24,
      "outputs": [
        {
          "output_type": "execute_result",
          "data": {
            "text/plain": [
              "2    2042\n",
              "6    2038\n",
              "7    2027\n",
              "8    2012\n",
              "3    2011\n",
              "4    2009\n",
              "0    1989\n",
              "1    1981\n",
              "9    1966\n",
              "5    1925\n",
              "dtype: int64"
            ]
          },
          "metadata": {},
          "execution_count": 24
        }
      ]
    },
    {
      "cell_type": "code",
      "source": [
        "model1.compile(optimizer='adam' , loss='categorical_crossentropy' , metrics =['accuracy'])\n"
      ],
      "metadata": {
        "id": "KfPr6zjDk5bY"
      },
      "execution_count": 25,
      "outputs": []
    },
    {
      "cell_type": "code",
      "source": [
        "x_train = np.array([cv2.resize(x , (32,32), interpolation = cv2.INTER_AREA) for x in x_train])\n",
        "x_test = np.array([cv2.resize(x , (32,32), interpolation = cv2.INTER_AREA) for x in x_test])"
      ],
      "metadata": {
        "id": "v733P7cClTrJ"
      },
      "execution_count": 26,
      "outputs": []
    },
    {
      "cell_type": "code",
      "source": [
        "train_datagen = ImageDataGenerator(rescale = 1./255)\n",
        "train_datagen.fit(x_train)\n",
        "test_datagen = ImageDataGenerator(rescale = 1./255)\n",
        "test_datagen.fit(x_test)"
      ],
      "metadata": {
        "id": "lbwd_YTDlW4G"
      },
      "execution_count": 27,
      "outputs": []
    },
    {
      "cell_type": "code",
      "source": [
        "train_data = train_datagen.flow(x_train,y_train , batch_size = 20)\n",
        "test_data = test_datagen.flow(x_test , y_test , batch_size = 20)"
      ],
      "metadata": {
        "id": "7yn9U02ClaSr"
      },
      "execution_count": 28,
      "outputs": []
    },
    {
      "cell_type": "code",
      "source": [
        "history = model1.fit(train_data , validation_data=test_data, epochs = 10)"
      ],
      "metadata": {
        "colab": {
          "base_uri": "https://localhost:8080/"
        },
        "id": "gLvRogUelcms",
        "outputId": "589a3e91-edd9-467f-e1c0-86603ac85e79"
      },
      "execution_count": 30,
      "outputs": [
        {
          "output_type": "stream",
          "name": "stdout",
          "text": [
            "Epoch 1/10\n",
            "1000/1000 [==============================] - 293s 293ms/step - loss: 115.4704 - accuracy: 0.0233 - val_loss: 114.9937 - val_accuracy: 0.0276\n",
            "Epoch 2/10\n",
            "1000/1000 [==============================] - 292s 292ms/step - loss: 114.6958 - accuracy: 0.0286 - val_loss: 114.4008 - val_accuracy: 0.0325\n",
            "Epoch 3/10\n",
            "1000/1000 [==============================] - 293s 293ms/step - loss: 114.1252 - accuracy: 0.0342 - val_loss: 113.9611 - val_accuracy: 0.0363\n",
            "Epoch 4/10\n",
            "1000/1000 [==============================] - 292s 292ms/step - loss: 113.6619 - accuracy: 0.0382 - val_loss: 113.4772 - val_accuracy: 0.0415\n",
            "Epoch 5/10\n",
            "1000/1000 [==============================] - 292s 292ms/step - loss: 113.2129 - accuracy: 0.0426 - val_loss: 113.0457 - val_accuracy: 0.0470\n",
            "Epoch 6/10\n",
            "1000/1000 [==============================] - 293s 293ms/step - loss: 112.7843 - accuracy: 0.0461 - val_loss: 112.7196 - val_accuracy: 0.0500\n",
            "Epoch 7/10\n",
            "1000/1000 [==============================] - 292s 292ms/step - loss: 112.4479 - accuracy: 0.0503 - val_loss: 112.2614 - val_accuracy: 0.0549\n",
            "Epoch 8/10\n",
            "1000/1000 [==============================] - 291s 292ms/step - loss: 112.0482 - accuracy: 0.0542 - val_loss: 111.9674 - val_accuracy: 0.0578\n",
            "Epoch 9/10\n",
            "1000/1000 [==============================] - 292s 292ms/step - loss: 111.7193 - accuracy: 0.0581 - val_loss: 111.6487 - val_accuracy: 0.0609\n",
            "Epoch 10/10\n",
            "1000/1000 [==============================] - 292s 292ms/step - loss: 111.3936 - accuracy: 0.0615 - val_loss: 111.3514 - val_accuracy: 0.0642\n"
          ]
        }
      ]
    },
    {
      "cell_type": "code",
      "source": [
        "model1.save('cifar.h5')"
      ],
      "metadata": {
        "id": "FbxJtM3UlfW_"
      },
      "execution_count": 31,
      "outputs": []
    }
  ]
}